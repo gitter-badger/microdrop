{
 "metadata": {
  "name": "",
  "signature": "sha256:71e5eef2a0dc3162dfa5a401e199d1ac47bce5602b77c0ca8782ca0673975a34"
 },
 "nbformat": 3,
 "nbformat_minor": 0,
 "worksheets": [
  {
   "cells": [
    {
     "cell_type": "code",
     "collapsed": false,
     "input": [
      "%matplotlib inline\n",
      "import cPickle as pickle\n",
      "\n",
      "import matplotlib.pyplot as plt\n",
      "import pandas as pd\n",
      "import numpy as np\n",
      "from path_helpers import path\n",
      "\n",
      "log_root = path('.').abspath()\n",
      "log_path = log_root.joinpath('data')\n",
      "log = log_path.pickle_load()\n",
      "\n",
      "# `log.data` is a list containing log data for each step.\n",
      "# For each step, a dictionary is stored, keyed by plugin name,\n",
      "# containing a pickled object for each plugin."
     ],
     "language": "python",
     "metadata": {},
     "outputs": []
    }
   ],
   "metadata": {}
  }
 ]
}